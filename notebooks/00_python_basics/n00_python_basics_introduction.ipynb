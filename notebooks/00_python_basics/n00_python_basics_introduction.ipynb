{
 "cells": [
  {
   "cell_type": "markdown",
   "id": "352fb0f4",
   "metadata": {},
   "source": [
    "# Python Basics Tutorial\n",
    "\n",
    "This notebook demonstrates fundamental Python concepts including:\n",
    "- Variables and data types\n",
    "- Control structures (if/else, loops)\n",
    "- Functions\n",
    "- Lists and dictionaries\n",
    "- NumPy arrays and operations\n",
    "- Basic plotting with matplotlib\n",
    "\n",
    "**Author:** AI Course for Industrial Control"
   ]
  },
  {
   "cell_type": "markdown",
   "id": "619cff6a",
   "metadata": {},
   "source": [
    "## Import Required Libraries\n",
    "\n",
    "First, let's import the libraries we'll need for this tutorial:"
   ]
  },
  {
   "cell_type": "code",
   "execution_count": null,
   "id": "50922c5a",
   "metadata": {},
   "outputs": [],
   "source": [
    "import torch\n",
    "from pathlib import Path\n",
    "import matplotlib.pyplot as plt\n",
    "import numpy as np\n",
    "\n",
    "print(\"Libraries imported successfully!\")"
   ]
  },
  {
   "cell_type": "markdown",
   "id": "8954e09a",
   "metadata": {},
   "source": [
    "## 1. Variables and Data Types\n",
    "\n",
    "Python supports several basic data types. Let's explore the most common ones:"
   ]
  },
  {
   "cell_type": "code",
   "execution_count": null,
   "id": "55978834",
   "metadata": {},
   "outputs": [],
   "source": [
    "print(\"=\" * 50)\n",
    "print(\"VARIABLES AND DATA TYPES\")\n",
    "print(\"=\" * 50)\n",
    "\n",
    "# Basic data types\n",
    "integer_var = 42\n",
    "float_var = 3.14159\n",
    "string_var = \"Hello, Python!\"\n",
    "boolean_var = True\n",
    "\n",
    "print(f\"Integer: {integer_var} (type: {type(integer_var)})\")\n",
    "print(f\"Float: {float_var} (type: {type(float_var)})\")\n",
    "print(f\"String: {string_var} (type: {type(string_var)})\")\n",
    "print(f\"Boolean: {boolean_var} (type: {type(boolean_var)})\")"
   ]
  },
  {
   "cell_type": "markdown",
   "id": "d07c4f50",
   "metadata": {},
   "source": [
    "## 2. Lists and Basic Operations\n",
    "\n",
    "Lists are one of the most versatile data structures in Python. They can hold multiple items of different types:"
   ]
  },
  {
   "cell_type": "code",
   "execution_count": null,
   "id": "2eb51ede",
   "metadata": {},
   "outputs": [],
   "source": [
    "print(\"LISTS AND BASIC OPERATIONS\")\n",
    "print(\"-\" * 30)\n",
    "\n",
    "# Creating lists\n",
    "numbers = [1, 2, 3, 4, 5]\n",
    "fruits = [\"apple\", \"banana\", \"orange\"]\n",
    "mixed_list = [1, \"hello\", 3.14, True]\n",
    "\n",
    "print(f\"Numbers list: {numbers}\")\n",
    "print(f\"Fruits list: {fruits}\")\n",
    "print(f\"Mixed list: {mixed_list}\")\n",
    "\n",
    "# List operations\n",
    "numbers.append(6)\n",
    "print(f\"After appending 6: {numbers}\")\n",
    "print(f\"First element: {numbers[0]}\")\n",
    "print(f\"Last element: {numbers[-1]}\")\n",
    "print(f\"List length: {len(numbers)}\")"
   ]
  },
  {
   "cell_type": "markdown",
   "id": "780feca1",
   "metadata": {},
   "source": [
    "## 3. Dictionaries\n",
    "\n",
    "Dictionaries store data in key-value pairs, making them perfect for representing structured information:"
   ]
  },
  {
   "cell_type": "code",
   "execution_count": null,
   "id": "02474af7",
   "metadata": {},
   "outputs": [],
   "source": [
    "print(\"DICTIONARIES\")\n",
    "print(\"-\" * 30)\n",
    "\n",
    "student = {\n",
    "    \"name\": \"Alice\",\n",
    "    \"age\": 25,\n",
    "    \"courses\": [\"Python\", \"AI\", \"Control Systems\"],\n",
    "    \"grade\": 8.5\n",
    "}\n",
    "\n",
    "print(f\"Student info: {student}\")\n",
    "print(f\"Student name: {student['name']}\")\n",
    "print(f\"Student courses: {student['courses']}\")\n",
    "\n",
    "# Adding new key-value pair\n",
    "student[\"university\"] = \"Tech University\"\n",
    "print(f\"Updated student info: {student}\")"
   ]
  },
  {
   "cell_type": "markdown",
   "id": "a753de9b",
   "metadata": {},
   "source": [
    "## 4. Control Structures\n",
    "\n",
    "Control structures allow you to make decisions and repeat actions in your code.\n",
    "\n",
    "### 4.1 IF/ELSE Statements"
   ]
  },
  {
   "cell_type": "code",
   "execution_count": null,
   "id": "e9c250ec",
   "metadata": {},
   "outputs": [],
   "source": [
    "print(\"IF/ELSE Statements:\")\n",
    "\n",
    "temperature = 25\n",
    "\n",
    "if temperature > 30:\n",
    "    print(f\"It's hot! Temperature: {temperature}°C\")\n",
    "elif temperature > 20:\n",
    "    print(f\"It's warm! Temperature: {temperature}°C\")\n",
    "elif temperature > 10:\n",
    "    print(f\"It's cool! Temperature: {temperature}°C\")\n",
    "else:\n",
    "    print(f\"It's cold! Temperature: {temperature}°C\")\n",
    "\n",
    "# Multiple conditions\n",
    "age = 22\n",
    "has_license = True\n",
    "\n",
    "if age >= 18 and has_license:\n",
    "    print(\"Can drive a car\")\n",
    "elif age >= 18 and not has_license:\n",
    "    print(\"Can get a driving license\")\n",
    "else:\n",
    "    print(\"Too young to drive\")"
   ]
  },
  {
   "cell_type": "markdown",
   "id": "31aa0e9d",
   "metadata": {},
   "source": [
    "### 4.2 FOR Loops\n",
    "\n",
    "FOR loops are used to iterate over sequences like lists, strings, or ranges:"
   ]
  },
  {
   "cell_type": "code",
   "execution_count": null,
   "id": "0459c909",
   "metadata": {},
   "outputs": [],
   "source": [
    "print(\"FOR Loops:\")\n",
    "\n",
    "# Loop through a list\n",
    "colors = [\"red\", \"green\", \"blue\", \"yellow\"]\n",
    "print(\"Colors:\")\n",
    "for color in colors:\n",
    "    print(f\"  - {color}\")\n",
    "\n",
    "# Loop with range\n",
    "print(\"Numbers from 1 to 5:\")\n",
    "for i in range(1, 6):\n",
    "    print(f\"  Number: {i}\")\n",
    "\n",
    "# Loop with range\n",
    "print(\"Numbers from 0 to 5:\")\n",
    "for i in range(6):\n",
    "    print(f\"  Number: {i}\")\n",
    "\n",
    "# Loop with enumerate (get index and value)\n",
    "print(\"Enumerated colors:\")\n",
    "for index, color in enumerate(colors):\n",
    "    print(f\"  {index}: {color}\")"
   ]
  },
  {
   "cell_type": "markdown",
   "id": "7907cf0e",
   "metadata": {},
   "source": [
    "### 4.3 WHILE Loops and List Comprehensions"
   ]
  },
  {
   "cell_type": "code",
   "execution_count": null,
   "id": "443e6015",
   "metadata": {},
   "outputs": [],
   "source": [
    "# WHILE LOOPS\n",
    "print(\"WHILE Loops:\")\n",
    "\n",
    "count = 0\n",
    "print(\"Counting to 3:\")\n",
    "while count < 3:\n",
    "    count += 1\n",
    "    print(f\"  Count: {count}\")\n",
    "\n",
    "# LIST COMPREHENSIONS (Pythonic way to create lists)\n",
    "print(\"\\nList Comprehensions:\")\n",
    "\n",
    "# Create a list of squares\n",
    "squares = [x**2 for x in range(1, 6)]\n",
    "print(f\"Squares: {squares}\")\n",
    "\n",
    "# Conditional list comprehension\n",
    "even_squares = [x**2 for x in range(1, 11) if x % 2 == 0]\n",
    "print(f\"Even squares: {even_squares}\")"
   ]
  },
  {
   "cell_type": "markdown",
   "id": "c97738ce",
   "metadata": {},
   "source": [
    "## 5. Functions\n",
    "\n",
    "Functions help organize and reuse code. They can take parameters and return values:"
   ]
  },
  {
   "cell_type": "code",
   "execution_count": null,
   "id": "f46dc5ea",
   "metadata": {},
   "outputs": [],
   "source": [
    "print(\"FUNCTIONS\")\n",
    "print(\"-\" * 30)\n",
    "\n",
    "# Simple function\n",
    "def greet(name):\n",
    "    return f\"Hello, {name}!\"\n",
    "\n",
    "# Function with default parameter\n",
    "def calculate_area(length, width=1):\n",
    "    return length * width\n",
    "\n",
    "# Function with multiple return values\n",
    "def get_circle_properties(radius):\n",
    "    area = np.pi * radius**2\n",
    "    circumference = 2 * np.pi * radius\n",
    "    return area, circumference\n",
    "\n",
    "# Function calls\n",
    "print(greet(\"Alice\"))\n",
    "print(f\"Rectangle area (5x3): {calculate_area(5, 3)}\")\n",
    "print(f\"Square area (4x4): {calculate_area(4)}\")  # Uses default width=1\n",
    "\n",
    "area, circ = get_circle_properties(5)\n",
    "print(f\"Circle (radius=5) - Area: {area:.2f}, Circumference: {circ:.2f}\")"
   ]
  },
  {
   "cell_type": "markdown",
   "id": "998b5ba8",
   "metadata": {},
   "source": [
    "## 6. NumPy Arrays\n",
    "\n",
    "NumPy arrays are the foundation of scientific computing in Python. They're more efficient than lists for numerical operations:"
   ]
  },
  {
   "cell_type": "code",
   "execution_count": null,
   "id": "b13a104d",
   "metadata": {},
   "outputs": [],
   "source": [
    "print(\"NUMPY ARRAYS\")\n",
    "print(\"-\" * 30)\n",
    "\n",
    "# Creating arrays\n",
    "arr1 = np.array([1, 2, 3, 4, 5])\n",
    "arr2 = np.array([10, 20, 30, 40, 50])\n",
    "\n",
    "print(f\"Array 1: {arr1}\")\n",
    "print(f\"Array 2: {arr2}\")\n",
    "print(f\"Array 1 shape: {arr1.shape}\")\n",
    "print(f\"Array 1 dtype: {arr1.dtype}\")\n",
    "\n",
    "# Array operations\n",
    "print(f\"Addition: {arr1 + arr2}\")\n",
    "print(f\"Multiplication: {arr1 * arr2}\")\n",
    "print(f\"Square root: {np.sqrt(arr1)}\")\n",
    "print(f\"Sum: {np.sum(arr1)}\")\n",
    "print(f\"Mean: {np.mean(arr1)}\")\n",
    "print(f\"Max: {np.max(arr1)}\")\n",
    "print(f\"Min: {np.min(arr1)}\")"
   ]
  },
  {
   "cell_type": "markdown",
   "id": "99522886",
   "metadata": {},
   "source": [
    "### 6.1 2D Arrays and Array Creation Functions"
   ]
  },
  {
   "cell_type": "code",
   "execution_count": null,
   "id": "64c7cfe7",
   "metadata": {},
   "outputs": [],
   "source": [
    "# 2D arrays (matrices)\n",
    "matrix = np.array([[1, 2, 3], [4, 5, 6], [7, 8, 9]])\n",
    "print(f\"2D Array:\\n{matrix}\")\n",
    "print(f\"Shape: {matrix.shape}\")\n",
    "print(f\"Element at [1,2]: {matrix[1, 2]}\")\n",
    "\n",
    "# Array creation functions\n",
    "zeros = np.zeros((3, 3))\n",
    "ones = np.ones((2, 4))\n",
    "identity = np.eye(3)\n",
    "random_array = np.random.random((2, 3))\n",
    "linspace_array = np.linspace(0, 10, 5)\n",
    "\n",
    "print(f\"\\nZeros array:\\n{zeros}\")\n",
    "print(f\"Ones array:\\n{ones}\")\n",
    "print(f\"Identity matrix:\\n{identity}\")\n",
    "print(f\"Random array:\\n{random_array}\")\n",
    "print(f\"Linspace (0 to 10, 5 points): {linspace_array}\")"
   ]
  },
  {
   "cell_type": "markdown",
   "id": "66ab5276",
   "metadata": {},
   "source": [
    "### 6.2 Array Indexing and Slicing"
   ]
  },
  {
   "cell_type": "code",
   "execution_count": null,
   "id": "3872e97b",
   "metadata": {},
   "outputs": [],
   "source": [
    "# Array indexing and slicing\n",
    "arr = np.array([0, 1, 2, 3, 4, 5, 6, 7, 8, 9])\n",
    "print(f\"Original array: {arr}\")\n",
    "print(f\"First 5 elements: {arr[:5]}\")\n",
    "print(f\"Last 3 elements: {arr[-3:]}\")\n",
    "print(f\"Every second element: {arr[::2]}\")\n",
    "print(f\"Elements from index 2 to 7: {arr[2:8]}\")\n",
    "\n",
    "# Boolean indexing\n",
    "condition = arr > 5\n",
    "print(f\"Elements > 5: {arr[condition]}\")\n",
    "print(f\"Elements > 5 (direct): {arr[arr > 5]}\")"
   ]
  },
  {
   "cell_type": "markdown",
   "id": "9121e820",
   "metadata": {},
   "source": [
    "## 7. Mathematical Operations\n",
    "\n",
    "NumPy provides extensive mathematical functions for scientific computing:"
   ]
  },
  {
   "cell_type": "code",
   "execution_count": null,
   "id": "b49fff58",
   "metadata": {},
   "outputs": [],
   "source": [
    "print(\"MATHEMATICAL OPERATIONS\")\n",
    "print(\"-\" * 30)\n",
    "\n",
    "# Generate data\n",
    "x = np.linspace(0, 2*np.pi, 100)\n",
    "y_sin = np.sin(x)\n",
    "y_cos = np.cos(x)\n",
    "y_exp = np.exp(-x/2)\n",
    "\n",
    "# Statistics\n",
    "data = np.random.normal(0, 1, 1000)  # Normal distribution\n",
    "print(f\"Random data statistics:\")\n",
    "print(f\"  Mean: {np.mean(data):.3f}\")\n",
    "print(f\"  Standard deviation: {np.std(data):.3f}\")\n",
    "print(f\"  Min: {np.min(data):.3f}\")\n",
    "print(f\"  Max: {np.max(data):.3f}\")\n",
    "print(f\"  Median: {np.median(data):.3f}\")\n",
    "\n",
    "# Linear algebra\n",
    "A = np.array([[1, 2], [3, 4]])\n",
    "B = np.array([[5, 6], [7, 8]])\n",
    "\n",
    "print(f\"\\nMatrix A:\\n{A}\")\n",
    "print(f\"Matrix B:\\n{B}\")\n",
    "print(f\"Matrix multiplication A@B:\\n{A @ B}\")\n",
    "print(f\"Matrix inverse of A:\\n{np.linalg.inv(A)}\")\n",
    "print(f\"Determinant of A: {np.linalg.det(A):.3f}\")"
   ]
  },
  {
   "cell_type": "markdown",
   "id": "34acd3cc",
   "metadata": {},
   "source": [
    "## 8. Plotting with Matplotlib\n",
    "\n",
    "Matplotlib is the primary plotting library in Python. Let's create some visualizations:"
   ]
  },
  {
   "cell_type": "code",
   "execution_count": null,
   "id": "73b5b5e8",
   "metadata": {},
   "outputs": [],
   "source": [
    "print(\"PLOTTING WITH MATPLOTLIB\")\n",
    "print(\"-\" * 30)\n",
    "\n",
    "# Create subplots\n",
    "fig, axes = plt.subplots(2, 2, figsize=(6, 5))\n",
    "fig.suptitle('Python Basics - Plotting Demo', fontsize=16)\n",
    "\n",
    "# Plot 1: Trigonometric functions\n",
    "axes[0, 0].plot(x, y_sin, 'b-', label='sin(x)', linewidth=2)\n",
    "axes[0, 0].plot(x, y_cos, 'r--', label='cos(x)', linewidth=2)\n",
    "axes[0, 0].set_xlabel('x')\n",
    "axes[0, 0].set_ylabel('y')\n",
    "axes[0, 0].set_title('Trigonometric Functions')\n",
    "axes[0, 0].legend()\n",
    "axes[0, 0].grid(True, alpha=0.3)\n",
    "\n",
    "# Plot 2: Exponential decay\n",
    "axes[0, 1].plot(x, y_exp, 'g-', linewidth=2)\n",
    "axes[0, 1].set_xlabel('x')\n",
    "axes[0, 1].set_ylabel('y')\n",
    "axes[0, 1].set_title('Exponential Decay: e^(-x/2)')\n",
    "axes[0, 1].grid(True, alpha=0.3)\n",
    "\n",
    "# Plot 3: Histogram\n",
    "axes[1, 0].hist(data, bins=30, alpha=0.7, color='purple', edgecolor='black')\n",
    "axes[1, 0].set_xlabel('Value')\n",
    "axes[1, 0].set_ylabel('Frequency')\n",
    "axes[1, 0].set_title('Random Normal Distribution')\n",
    "axes[1, 0].grid(True, alpha=0.3)\n",
    "\n",
    "# Plot 4: Scatter plot\n",
    "n_points = 50\n",
    "x_scatter = np.random.uniform(0, 10, n_points)\n",
    "y_scatter = 2 * x_scatter + 1 + np.random.normal(0, 1, n_points)\n",
    "\n",
    "axes[1, 1].scatter(x_scatter, y_scatter, alpha=0.6, s=50)\n",
    "axes[1, 1].plot(x_scatter, 2 * x_scatter + 1, 'r-', label='y = 2x + 1', linewidth=2)\n",
    "axes[1, 1].set_xlabel('x')\n",
    "axes[1, 1].set_ylabel('y')\n",
    "axes[1, 1].set_title('Linear Relationship with Noise')\n",
    "axes[1, 1].legend()\n",
    "axes[1, 1].grid(True, alpha=0.3)\n",
    "\n",
    "plt.tight_layout()\n",
    "plt.show()\n",
    "\n",
    "print(\"Plots displayed successfully!\")"
   ]
  },
  {
   "cell_type": "markdown",
   "id": "1bb8fed1",
   "metadata": {},
   "source": [
    "## 9. Practical Example: Data Analysis\n",
    "\n",
    "Let's combine all the concepts we've learned in a practical example that simulates sensor data analysis:"
   ]
  },
  {
   "cell_type": "code",
   "execution_count": null,
   "id": "553104c2",
   "metadata": {},
   "outputs": [],
   "source": [
    "print(\"PRACTICAL EXAMPLE: DATA ANALYSIS\")\n",
    "print(\"-\" * 30)\n",
    "\n",
    "# Simulate sensor data\n",
    "time = np.linspace(0, 10, 100)\n",
    "temperature = 20 + 5 * np.sin(2 * np.pi * time / 5) + np.random.normal(0, 0.5, 100)\n",
    "pressure = 1013 + 10 * np.cos(2 * np.pi * time / 3) + np.random.normal(0, 1, 100)\n",
    "\n",
    "# Data analysis\n",
    "sensors = {\n",
    "    \"temperature\": {\n",
    "        \"data\": temperature,\n",
    "        \"unit\": \"°C\",\n",
    "        \"normal_range\": (18, 25)\n",
    "    },\n",
    "    \"pressure\": {\n",
    "        \"data\": pressure,\n",
    "        \"unit\": \"hPa\",\n",
    "        \"normal_range\": (1000, 1020)\n",
    "    }\n",
    "}\n",
    "\n",
    "print(\"Sensor Data Analysis:\")\n",
    "for sensor_name, sensor_info in sensors.items():\n",
    "    data = sensor_info[\"data\"]\n",
    "    unit = sensor_info[\"unit\"]\n",
    "    min_val, max_val = sensor_info[\"normal_range\"]\n",
    "    \n",
    "    # Calculate statistics\n",
    "    mean_val = np.mean(data)\n",
    "    std_val = np.std(data)\n",
    "    min_reading = np.min(data)\n",
    "    max_reading = np.max(data)\n",
    "    \n",
    "    # Check for anomalies\n",
    "    anomalies = np.sum((data < min_val) | (data > max_val))\n",
    "    \n",
    "    print(f\"\\n{sensor_name.upper()} ({unit}):\")\n",
    "    print(f\"  Mean: {mean_val:.2f} {unit}\")\n",
    "    print(f\"  Std Dev: {std_val:.2f} {unit}\")\n",
    "    print(f\"  Range: {min_reading:.2f} - {max_reading:.2f} {unit}\")\n",
    "    print(f\"  Normal range: {min_val} - {max_val} {unit}\")\n",
    "    print(f\"  Anomalies: {anomalies} out of {len(data)} readings\")\n",
    "    \n",
    "    if anomalies > 0:\n",
    "        print(f\"  ⚠️  Warning: {anomalies} anomalous readings detected!\")\n",
    "    else:\n",
    "        print(f\"  ✅ All readings within normal range\")"
   ]
  },
  {
   "cell_type": "markdown",
   "id": "f676e498",
   "metadata": {},
   "source": [
    "### 9.1 Visualize Sensor Data"
   ]
  },
  {
   "cell_type": "code",
   "execution_count": null,
   "id": "749c94d0",
   "metadata": {},
   "outputs": [],
   "source": [
    "# Plot sensor data\n",
    "fig, (ax1, ax2) = plt.subplots(2, 1, figsize=(12, 8))\n",
    "fig.suptitle('Sensor Data Over Time', fontsize=16)\n",
    "\n",
    "# Temperature plot\n",
    "ax1.plot(time, temperature, 'b-', linewidth=1.5, label='Temperature')\n",
    "ax1.axhline(y=18, color='r', linestyle='--', alpha=0.7, label='Min Normal')\n",
    "ax1.axhline(y=25, color='r', linestyle='--', alpha=0.7, label='Max Normal')\n",
    "ax1.fill_between(time, 18, 25, alpha=0.2, color='green', label='Normal Range')\n",
    "ax1.set_ylabel('Temperature (°C)')\n",
    "ax1.set_title('Temperature Sensor')\n",
    "ax1.legend()\n",
    "ax1.grid(True, alpha=0.3)\n",
    "\n",
    "# Pressure plot\n",
    "ax2.plot(time, pressure, 'g-', linewidth=1.5, label='Pressure')\n",
    "ax2.axhline(y=1000, color='r', linestyle='--', alpha=0.7, label='Min Normal')\n",
    "ax2.axhline(y=1020, color='r', linestyle='--', alpha=0.7, label='Max Normal')\n",
    "ax2.fill_between(time, 1000, 1020, alpha=0.2, color='green', label='Normal Range')\n",
    "ax2.set_xlabel('Time (s)')\n",
    "ax2.set_ylabel('Pressure (hPa)')\n",
    "ax2.set_title('Pressure Sensor')\n",
    "ax2.legend()\n",
    "ax2.grid(True, alpha=0.3)\n",
    "\n",
    "plt.tight_layout()\n",
    "plt.show()"
   ]
  },
  {
   "cell_type": "markdown",
   "id": "455cc073",
   "metadata": {},
   "source": [
    "## Summary\n",
    "\n",
    "Congratulations! You've completed the Python Basics Tutorial. Here are the key takeaways:\n",
    "\n",
    "### Key Concepts Learned:\n",
    "\n",
    "1. **Variables and Data Types**: Python can handle integers, floats, strings, and booleans\n",
    "2. **Control Structures**: if/else statements and loops control program flow\n",
    "3. **Functions**: Help organize and reuse code effectively\n",
    "4. **Lists and Dictionaries**: Versatile data structures for storing collections\n",
    "5. **NumPy Arrays**: Powerful tools for numerical computations\n",
    "6. **Matplotlib**: Enables creation of professional data visualizations\n",
    "7. **Practical Application**: Combining concepts for real-world data analysis\n",
    "\n",
    "### Next Steps:\n",
    "\n",
    "- Practice with your own data\n",
    "- Explore more advanced NumPy functions\n",
    "- Learn about pandas for data manipulation\n",
    "- Try machine learning with scikit-learn\n",
    "- Build more complex visualizations\n",
    "\n",
    "### Resources for Further Learning:\n",
    "\n",
    "- [Python Official Documentation](https://docs.python.org/3/)\n",
    "- [NumPy Documentation](https://numpy.org/doc/)\n",
    "- [Matplotlib Tutorials](https://matplotlib.org/stable/tutorials/index.html)\n",
    "- [Real Python Tutorials](https://realpython.com/)"
   ]
  },
  {
   "cell_type": "markdown",
   "id": "d084d956",
   "metadata": {},
   "source": [
    "---\n",
    "\n",
    "**End of Python Basics Introduction**\n",
    "\n",
    "*This notebook provides a comprehensive introduction to Python fundamentals for scientific computing and data analysis in industrial control applications.*"
   ]
  }
 ],
 "metadata": {
  "kernelspec": {
   "display_name": "env",
   "language": "python",
   "name": "python3"
  },
  "language_info": {
   "codemirror_mode": {
    "name": "ipython",
    "version": 3
   },
   "file_extension": ".py",
   "mimetype": "text/x-python",
   "name": "python",
   "nbconvert_exporter": "python",
   "pygments_lexer": "ipython3",
   "version": "3.10.11"
  }
 },
 "nbformat": 4,
 "nbformat_minor": 5
}
